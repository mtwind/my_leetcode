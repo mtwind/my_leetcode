{
 "cells": [
  {
   "cell_type": "markdown",
   "metadata": {},
   "source": [
    "# Base 7\n",
    "\n",
    "Given an integer num, return a string of its base 7 representation.\n",
    "\n",
    "**Example 1:**\n",
    "Input: num = 100\n",
    "Output: \"202\"\n",
    "\n",
    "**Example 2:**\n",
    "Input: num = -7\n",
    "Output: \"-10\""
   ]
  },
  {
   "cell_type": "code",
   "execution_count": 2,
   "metadata": {},
   "outputs": [],
   "source": [
    "class Solution:\n",
    "    def convertToBase7(self, num: int) -> str:\n",
    "        result = \"\" if num != 0 else \"0\"\n",
    "        negative = True if num < 0 else False\n",
    "        num = abs(num)\n",
    "        while num is not 0:\n",
    "            \n",
    "            result = str(num % 7) + result\n",
    "            num = int(num / 7)\n",
    "        result = \"-\" + result if negative else result\n",
    "        return result"
   ]
  },
  {
   "cell_type": "markdown",
   "metadata": {},
   "source": [
    "# Convert a Number to Hexadecimal\n",
    "\n",
    "Given an integer num, return a string representing its hexadecimal representation. For negative integers, two’s complement method is used.\n",
    "\n",
    "All the letters in the answer string should be lowercase characters, and there should not be any leading zeros in the answer except for the zero itself.\n",
    "\n",
    "Note: You are not allowed to use any built-in library method to directly solve this problem.\n",
    "\n",
    "**Example 1:**\n",
    "- Input: num = 26\n",
    "- Output: \"1a\"\n",
    "\n",
    "**Example 2:**\n",
    "- Input: num = -1\n",
    "- Output: \"ffffffff\"\n",
    " \n"
   ]
  },
  {
   "cell_type": "code",
   "execution_count": null,
   "metadata": {},
   "outputs": [],
   "source": [
    "class Solution:\n",
    "    def toHex(self, num: int) -> str:\n",
    "        letters = {\n",
    "            10: \"a\",\n",
    "            11: \"b\",\n",
    "            12: \"c\",\n",
    "            13: \"d\",\n",
    "            14: \"e\",\n",
    "            15: \"f\",\n",
    "        }\n",
    "        return self.convertToBase(num, 16, letters)\n",
    "    \n",
    "    def convertToBase(self, num: int, base: int, letters) -> str:\n",
    "        result = \"\" if num != 0 else \"0\"\n",
    "        i = 0\n",
    "        while num is not 0 and i < 8:\n",
    "            val = num % base\n",
    "            if val > 9:\n",
    "                val = letters[val]\n",
    "            result = str(val) + result\n",
    "            num = int(num // base)\n",
    "            i += 1\n",
    "        return result"
   ]
  },
  {
   "cell_type": "markdown",
   "metadata": {},
   "source": [
    "# Number of 1 Bits\n",
    "\n",
    "Write a function that takes the binary representation of a positive integer and returns the number of set bits it has (also known as the Hamming weight).\n",
    "\n",
    " \n",
    "\n",
    "**Example 1:**\n",
    "- Input: n = 11\n",
    "- Output: 3\n",
    "- **Explanation:**\n",
    "    - The input binary string 1011 has a total of three set bits.\n",
    "\n",
    "**Example 2:**\n",
    "- Input: n = 128\n",
    "- Output: 1\n",
    "- **Explanation:**\n",
    "    - The input binary string 10000000 has a total of one set bit.\n",
    "\n",
    "**Example 3:**\n",
    "- Input: n = 2147483645\n",
    "- Output: 30\n",
    "- **Explanation:**\n",
    "    - The input binary string 1111111111111111111111111111101 has a total of thirty set bits.\n",
    "\n",
    "**Constraints:**\n",
    "- 1 <= n <= 231 - 1\n",
    "\n",
    "Follow up: If this function is called many times, how would you optimize it?"
   ]
  },
  {
   "cell_type": "code",
   "execution_count": null,
   "metadata": {},
   "outputs": [],
   "source": [
    "class Solution:\n",
    "    def hammingWeight(self, n: int) -> int:\n",
    "        result = \"\" if n != 0 else \"0\"\n",
    "        negative = True if n < 0 else False\n",
    "        n = abs(n)\n",
    "        count = 0\n",
    "        while n is not 0:\n",
    "            val = n % 2\n",
    "            count += 1 if val == 1 else 0\n",
    "            result = str(val) + result\n",
    "            n = int(n / 2)\n",
    "        result = \"-\" + result if negative else result\n",
    "        return count"
   ]
  },
  {
   "cell_type": "markdown",
   "metadata": {},
   "source": [
    "# Reverse Bits\n",
    "Reverse bits of a given 32 bits unsigned integer.\n",
    "\n",
    "**Note:**\n",
    "- Note that in some languages, such as Java, there is no unsigned integer type. In this case, both input and output will be given as a signed integer type. They should not affect your implementation, as the integer's internal binary representation is the same, whether it is signed or unsigned.\n",
    "- In Java, the compiler represents the signed integers using 2's complement notation. Therefore, in Example 2 above, the input represents the signed integer -3 and the output represents the signed integer -1073741825.\n",
    " \n",
    "\n",
    "**Example 1:**\n",
    "- Input: n = 00000010100101000001111010011100\n",
    "- Output:    964176192 (00111001011110000010100101000000)\n",
    "- **Explanation:** \n",
    "    - The input binary string 00000010100101000001111010011100 represents the unsigned integer 43261596, so return 964176192 which its binary representation is 00111001011110000010100101000000.\n",
    "    \n",
    "**Example 2:**\n",
    "- Input: n = 11111111111111111111111111111101\n",
    "- Output:   3221225471 (10111111111111111111111111111111)\n",
    "- **Explanation:** \n",
    "    - The input binary string 11111111111111111111111111111101 represents the unsigned integer 4294967293, so return 3221225471 which its binary representation is 10111111111111111111111111111111.\n",
    " \n",
    "\n",
    "**Constraints:**\n",
    "- The input must be a binary string of length 32\n",
    " \n",
    "Follow up: If this function is called many times, how would you optimize it?"
   ]
  },
  {
   "cell_type": "code",
   "execution_count": null,
   "metadata": {},
   "outputs": [],
   "source": [
    "class Solution:\n",
    "    def reverseBits(self, n: int) -> int:\n",
    "        ret, power = 0, 31\n",
    "        while n:\n",
    "            ret += (n & 1) << power\n",
    "            n = n >> 1\n",
    "            power -= 1\n",
    "        return ret"
   ]
  },
  {
   "cell_type": "code",
   "execution_count": null,
   "metadata": {},
   "outputs": [],
   "source": [
    "import functools\n",
    "\n",
    "\n",
    "class Solution:\n",
    "    def reverseBits(self, n: int) -> int:\n",
    "        ret, power = 0, 24\n",
    "        while n:\n",
    "            ret += self.reverseByte(n & 0xFF) << power\n",
    "            n = n >> 8\n",
    "            power -= 8\n",
    "        return ret\n",
    "\n",
    "    # memoization with decorator\n",
    "    @functools.lru_cache(maxsize=256)\n",
    "    def reverseByte(self, byte):\n",
    "        return (byte * 0x0202020202 & 0x010884422010) % 1023"
   ]
  },
  {
   "cell_type": "code",
   "execution_count": null,
   "metadata": {},
   "outputs": [],
   "source": [
    "class Solution:\n",
    "    def reverseBits(self, n: int) -> int:\n",
    "        n = (n >> 16) | (n << 16)\n",
    "        n = ((n & 0xFF00FF00) >> 8) | ((n & 0x00FF00FF) << 8)\n",
    "        n = ((n & 0xF0F0F0F0) >> 4) | ((n & 0x0F0F0F0F) << 4)\n",
    "        n = ((n & 0xCCCCCCCC) >> 2) | ((n & 0x33333333) << 2)\n",
    "        n = ((n & 0xAAAAAAAA) >> 1) | ((n & 0x55555555) << 1)\n",
    "        return n"
   ]
  },
  {
   "cell_type": "markdown",
   "metadata": {},
   "source": [
    "# Sum of Two Integers\n",
    "\n",
    "Given two integers a and b, return the sum of the two integers without using the operators + and -.\n",
    "\n",
    "**Example 1:**\n",
    "- Input: a = 1, b = 2\n",
    "- Output: 3\n",
    "\n",
    "**Example 2:**\n",
    "- Input: a = 2, b = 3\n",
    "- Output: 5\n",
    " \n",
    "\n",
    "**Constraints:**\n",
    "- -1000 <= a, b <= 1000"
   ]
  },
  {
   "cell_type": "code",
   "execution_count": null,
   "metadata": {},
   "outputs": [],
   "source": [
    "class Solution:\n",
    "    def getSum(self, a: int, b: int) -> int:\n",
    "        x, y = abs(a), abs(b)\n",
    "        # ensure x >= y\n",
    "        if x < y:\n",
    "            return self.getSum(b, a)  \n",
    "        sign = 1 if a > 0 else -1\n",
    "        \n",
    "        if a * b >= 0:\n",
    "            # sum of two positive integers\n",
    "            while y:\n",
    "                x, y = x ^ y, (x & y) << 1\n",
    "        else:\n",
    "            # difference of two positive integers\n",
    "            while y:\n",
    "                x, y = x ^ y, ((~x) & y) << 1\n",
    "        \n",
    "        return x * sign"
   ]
  }
 ],
 "metadata": {
  "kernelspec": {
   "display_name": ".venv",
   "language": "python",
   "name": "python3"
  },
  "language_info": {
   "codemirror_mode": {
    "name": "ipython",
    "version": 3
   },
   "file_extension": ".py",
   "mimetype": "text/x-python",
   "name": "python",
   "nbconvert_exporter": "python",
   "pygments_lexer": "ipython3",
   "version": "3.12.2"
  }
 },
 "nbformat": 4,
 "nbformat_minor": 2
}
