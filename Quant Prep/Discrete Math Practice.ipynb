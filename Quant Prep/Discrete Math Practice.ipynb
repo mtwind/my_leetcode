{
 "cells": [
  {
   "cell_type": "markdown",
   "metadata": {},
   "source": [
    "# Practice\n",
    "\n",
    "**Combining Sum and Product Rule**\n",
    "- Counting Passwords\n",
    "    - A password must be 6-8 characters long.\n",
    "        - Each character is an uppercase letter or a digit\n",
    "        - Each password must contain at least one digit\n",
    "        - CS18200 is valid; LAWSON is not\n",
    "        "
   ]
  },
  {
   "cell_type": "code",
   "execution_count": null,
   "metadata": {},
   "outputs": [],
   "source": [
    "# Solution\n",
    "uppercase = 26\n",
    "digit = 10\n",
    "\n",
    "# How many 6 digit passwords are there?\n",
    "total = (26 + 10) ** 6\n",
    "# Remove passwords without a digit\n",
    "noDigit = (26) ** 6\n",
    "legal = total - noDigit\n",
    "\n",
    "total = 0\n",
    "for i in range(6, 9):\n",
    "    # How many i digit passwords are there?\n",
    "    all = (26 + 10) ** i\n",
    "    # Remove passwords without a digit\n",
    "    noDigit = (26) ** i\n",
    "    legal = all - noDigit\n",
    "    total += legal\n",
    "\n",
    "print(total)\n"
   ]
  },
  {
   "cell_type": "code",
   "execution_count": null,
   "metadata": {},
   "outputs": [],
   "source": [
    "import math\n",
    "\n",
    "# How many bit strings of length 20 contain exactly four 1s?\n",
    "num = math.comb(20, 4)\n",
    "print(num)\n"
   ]
  }
 ],
 "metadata": {
  "language_info": {
   "name": "python"
  }
 },
 "nbformat": 4,
 "nbformat_minor": 2
}
